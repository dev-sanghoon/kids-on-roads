{
  "cells": [
    {
      "cell_type": "code",
      "execution_count": 2,
      "metadata": {
        "id": "GjZqeRbJg10c"
      },
      "outputs": [],
      "source": [
        "import os\n",
        "import cv2\n",
        "import numpy as np\n",
        "from ultralytics import YOLO\n",
        "from gtts import gTTS\n",
        "from pydub import AudioSegment\n",
        "from tqdm.auto import tqdm"
      ]
    },
    {
      "cell_type": "code",
      "execution_count": 3,
      "metadata": {
        "id": "pu2Jvs7kZgae"
      },
      "outputs": [],
      "source": [
        "class Watcher:\n",
        "    def __init__(self, frame, seg_model, det_model):\n",
        "        self.frame = frame\n",
        "        self.seg_model = seg_model\n",
        "        self.det_model = det_model\n",
        "        self.walkers = []\n",
        "        self.jaywalkers = []\n",
        "\n",
        "    def _infer_road(self, conf):\n",
        "        canvas = np.zeros_like(self.frame)\n",
        "        seg_inf = self.seg_model(self.frame, conf=conf, verbose=False)\n",
        "        try:\n",
        "            road_seg = seg_inf[0].masks.xy[0].astype(np.int32)\n",
        "            cv2.fillPoly(canvas, [road_seg], (0, 0, 255))\n",
        "        except:\n",
        "            pass\n",
        "        return canvas\n",
        "\n",
        "    def _infer_people(self, conf):\n",
        "        det_inf = self.det_model(self.frame, classes=0, conf=conf, verbose=False)\n",
        "        person_det = det_inf[0].boxes.xyxy.cpu().numpy().astype(np.int32)\n",
        "        canvases = []\n",
        "        for person_coord in person_det:\n",
        "            xmin, ymin, xmax, ymax = person_coord\n",
        "            person_area = cv2.rectangle(np.zeros_like(self.frame), (xmin, ymin), (xmax, ymax), (0, 0, 255), -1)\n",
        "            canvases.append(person_area)\n",
        "        return canvases\n",
        "\n",
        "    def infer(self, seg_conf=0.8, det_conf=0.6):\n",
        "        road_area = self._infer_road(seg_conf)\n",
        "        people_areas = self._infer_people(det_conf)\n",
        "        for person_area in people_areas:\n",
        "            overlap = cv2.bitwise_and(road_area, person_area)\n",
        "            jaywalking = np.any(overlap)\n",
        "            if jaywalking:\n",
        "                self.jaywalkers.append(person_area)\n",
        "            else:\n",
        "                walker_area = person_area.copy()\n",
        "                walker_area[np.all(walker_area == (0, 0, 255), axis=-1)] = (0, 255, 0)\n",
        "                self.walkers.append(walker_area)\n",
        "\n",
        "    def count(self):\n",
        "        jay_count = len(self.jaywalkers)\n",
        "        total_count = len(self.walkers) + len(self.jaywalkers)\n",
        "        return total_count, jay_count\n",
        "\n",
        "    def visualize(self):\n",
        "        canvas = np.zeros_like(self.frame)\n",
        "        for jaywalker in self.jaywalkers:\n",
        "            canvas = cv2.add(canvas, jaywalker)\n",
        "        for walker in self.walkers:\n",
        "            canvas = cv2.add(canvas, walker)\n",
        "        return cv2.addWeighted(self.frame, 1, canvas, 0.5, 0)"
      ]
    },
    {
      "cell_type": "code",
      "execution_count": 4,
      "metadata": {
        "id": "qG-slmYPt1ok"
      },
      "outputs": [],
      "source": [
        "def get_loc(file_name):\n",
        "    BASE_URL = \"demo-prepare\"\n",
        "    return os.path.join(BASE_URL, file_name)\n",
        "\n",
        "\n",
        "def get_color(total_count, jaywalker_count):\n",
        "    if jaywalker_count > 0:\n",
        "        return (0, 0, 255)\n",
        "    if total_count > 2:\n",
        "        return (0, 69, 255)\n",
        "    return (0, 255, 0)"
      ]
    },
    {
      "cell_type": "code",
      "execution_count": 5,
      "metadata": {
        "id": "wzkz9QhSnFb9"
      },
      "outputs": [],
      "source": [
        "seg_model = YOLO(get_loc(\"team_best.pt\"))\n",
        "det_model = YOLO(\"yolov8m.pt\")"
      ]
    },
    {
      "cell_type": "code",
      "execution_count": 10,
      "metadata": {
        "colab": {
          "base_uri": "https://localhost:8080/",
          "height": 49,
          "referenced_widgets": [
            "bb7fd281b93e44b38d900f1945f60361",
            "d0cd9f0dd00d4654b7067af26c789776",
            "ecff424b11854dd2afd4b6c72ad7afff",
            "d2ffb801d59549e7a25498604c58ea6f",
            "60d237dd741642f0897feee397bc93e6",
            "7e9a62212add47fd96f667eee145acf6",
            "56dafb44fdd74291bd19701080376875",
            "b0ba2a24e97c40dfb18975a04490b9e3",
            "57d00ec50e4042efac876386c92cad46",
            "d1948757a7f4409e91c6cb38ae2a194c",
            "19363c1e5101400595c58fbba50a56dd"
          ]
        },
        "id": "XTKuYCNhuOab",
        "outputId": "75e511e2-3a8e-4c38-ce65-9ae125976f71"
      },
      "outputs": [
        {
          "data": {
            "application/vnd.jupyter.widget-view+json": {
              "model_id": "bb7fd281b93e44b38d900f1945f60361",
              "version_major": 2,
              "version_minor": 0
            },
            "text/plain": [
              "  0%|          | 0/450 [00:00<?, ?it/s]"
            ]
          },
          "metadata": {},
          "output_type": "display_data"
        }
      ],
      "source": [
        "video_folder = get_loc(\"videos\")\n",
        "video_paths = [os.path.join(video_folder, x) for x in os.listdir(video_folder)]\n",
        "caps = [cv2.VideoCapture(video_path) for video_path in video_paths]\n",
        "\n",
        "frame_width = int(caps[0].get(cv2.CAP_PROP_FRAME_WIDTH))\n",
        "frame_height = int(caps[0].get(cv2.CAP_PROP_FRAME_HEIGHT))\n",
        "fps = int(caps[0].get(cv2.CAP_PROP_FPS))\n",
        "frame_len = int(caps[0].get(cv2.CAP_PROP_FRAME_COUNT))\n",
        "\n",
        "fourcc = cv2.VideoWriter_fourcc(*'mp4v')\n",
        "out = cv2.VideoWriter('output_video.mp4', fourcc, fps, (frame_width * 2, frame_height * 2))\n",
        "\n",
        "prev = None\n",
        "CYCLE_SEC = 5\n",
        "audio = AudioSegment.silent(duration=CYCLE_SEC * 1000)\n",
        "\n",
        "for idx in tqdm(range(frame_len)):\n",
        "    rets = []\n",
        "    frames = []\n",
        "    for cap in caps:\n",
        "        ret, frame = cap.read()\n",
        "        rets.append(ret)\n",
        "        frames.append(frame)\n",
        "\n",
        "    if not all(rets):\n",
        "        break\n",
        "\n",
        "    canvas = np.zeros((frame_height * 2, frame_width * 2, 3), np.uint8)\n",
        "\n",
        "    counts = []\n",
        "    detections = []\n",
        "    for frame in frames:\n",
        "        watcher = Watcher(frame, seg_model, det_model)\n",
        "        watcher.infer()\n",
        "        detections.append(watcher.visualize())\n",
        "        counts.append(watcher.count())\n",
        "\n",
        "    if idx % fps == 0:\n",
        "        prev = counts\n",
        "    else:\n",
        "        counts = prev\n",
        "\n",
        "    tts_rep = CYCLE_SEC * fps\n",
        "    if idx in [x for x in range(tts_rep, frame_len, tts_rep)]:\n",
        "        subtotal = sum([total for total, jay in counts])\n",
        "        if subtotal != 0:\n",
        "            temp_file = 'temp.mp3'\n",
        "            tts = gTTS(f'구역에 {subtotal}명 있습니다.', lang='ko')\n",
        "            tts.save(temp_file)\n",
        "            tts_audio = AudioSegment.from_mp3(temp_file)\n",
        "            left_duration_sec = CYCLE_SEC - tts_audio.duration_seconds\n",
        "            silent_audio = AudioSegment.silent(duration=left_duration_sec * 1000)\n",
        "            audio = audio + tts_audio + silent_audio\n",
        "        else:\n",
        "            silent_audio = AudioSegment.silent(duration=CYCLE_SEC * 1000)\n",
        "            audio = audio + silent_audio\n",
        "\n",
        "    a_frame, b_frame, c_frame = detections\n",
        "    canvas[0:frame_height, 0:frame_width] = a_frame\n",
        "    canvas[0:frame_height, frame_width:frame_width * 2] = b_frame\n",
        "    canvas[frame_height:frame_height * 2, 0:frame_width] = c_frame\n",
        "\n",
        "    coords = [(2215, 1255), (1600, 1510), (1570, 550)]\n",
        "\n",
        "    map = cv2.imread(get_loc(\"map.png\"))\n",
        "    resized_map = cv2.resize(map, (3840, 2160))\n",
        "    map_canvas = np.zeros_like(resized_map)\n",
        "\n",
        "    for coord, count in zip(coords, counts):\n",
        "        cv2.circle(map_canvas, coord, 300, get_color(*count), -1)\n",
        "    cctv_map = cv2.addWeighted(resized_map, 0.75, map_canvas, 0.25, 0)\n",
        "    canvas[frame_height:frame_height * 2, frame_width:frame_width * 2] = cctv_map\n",
        "\n",
        "    out.write(canvas)\n",
        "\n",
        "audio.export('output_audio.mp3', format='mp3')\n",
        "\n",
        "for cap in caps:\n",
        "    cap.release()\n",
        "out.release()\n",
        "cv2.destroyAllWindows()"
      ]
    },
    {
      "cell_type": "code",
      "execution_count": 1,
      "metadata": {
        "id": "G5gMWH1il5PU"
      },
      "outputs": [
        {
          "name": "stdout",
          "output_type": "stream",
          "text": [
            "Moviepy - Building video /Users/lostin185/Desktop/demo.mp4.\n",
            "MoviePy - Writing audio in demoTEMP_MPY_wvf_snd.mp3\n"
          ]
        },
        {
          "name": "stderr",
          "output_type": "stream",
          "text": [
            "                                                                    \r"
          ]
        },
        {
          "name": "stdout",
          "output_type": "stream",
          "text": [
            "MoviePy - Done.\n",
            "Moviepy - Writing video /Users/lostin185/Desktop/demo.mp4\n",
            "\n"
          ]
        },
        {
          "name": "stderr",
          "output_type": "stream",
          "text": [
            "                                                              \r"
          ]
        },
        {
          "name": "stdout",
          "output_type": "stream",
          "text": [
            "Moviepy - Done !\n",
            "Moviepy - video ready /Users/lostin185/Desktop/demo.mp4\n"
          ]
        }
      ],
      "source": [
        "import os\n",
        "from moviepy.editor import VideoFileClip, AudioFileClip\n",
        "\n",
        "demo_video = VideoFileClip(os.path.join(os.getcwd(), 'output_video.mp4'))\n",
        "demo_audio = AudioFileClip(os.path.join(os.getcwd(), 'output_audio.mp3'))\n",
        "demo = demo_video.set_audio(demo_audio)\n",
        "demo.write_videofile(os.path.join(os.getcwd(), 'demo.mp4'))"
      ]
    }
  ],
  "metadata": {
    "accelerator": "GPU",
    "colab": {
      "gpuType": "T4",
      "provenance": []
    },
    "kernelspec": {
      "display_name": "Python 3",
      "name": "python3"
    },
    "language_info": {
      "codemirror_mode": {
        "name": "ipython",
        "version": 3
      },
      "file_extension": ".py",
      "mimetype": "text/x-python",
      "name": "python",
      "nbconvert_exporter": "python",
      "pygments_lexer": "ipython3",
      "version": "3.11.6"
    },
    "widgets": {
      "application/vnd.jupyter.widget-state+json": {
        "19363c1e5101400595c58fbba50a56dd": {
          "model_module": "@jupyter-widgets/controls",
          "model_module_version": "1.5.0",
          "model_name": "DescriptionStyleModel",
          "state": {
            "_model_module": "@jupyter-widgets/controls",
            "_model_module_version": "1.5.0",
            "_model_name": "DescriptionStyleModel",
            "_view_count": null,
            "_view_module": "@jupyter-widgets/base",
            "_view_module_version": "1.2.0",
            "_view_name": "StyleView",
            "description_width": ""
          }
        },
        "56dafb44fdd74291bd19701080376875": {
          "model_module": "@jupyter-widgets/controls",
          "model_module_version": "1.5.0",
          "model_name": "DescriptionStyleModel",
          "state": {
            "_model_module": "@jupyter-widgets/controls",
            "_model_module_version": "1.5.0",
            "_model_name": "DescriptionStyleModel",
            "_view_count": null,
            "_view_module": "@jupyter-widgets/base",
            "_view_module_version": "1.2.0",
            "_view_name": "StyleView",
            "description_width": ""
          }
        },
        "57d00ec50e4042efac876386c92cad46": {
          "model_module": "@jupyter-widgets/controls",
          "model_module_version": "1.5.0",
          "model_name": "ProgressStyleModel",
          "state": {
            "_model_module": "@jupyter-widgets/controls",
            "_model_module_version": "1.5.0",
            "_model_name": "ProgressStyleModel",
            "_view_count": null,
            "_view_module": "@jupyter-widgets/base",
            "_view_module_version": "1.2.0",
            "_view_name": "StyleView",
            "bar_color": null,
            "description_width": ""
          }
        },
        "60d237dd741642f0897feee397bc93e6": {
          "model_module": "@jupyter-widgets/base",
          "model_module_version": "1.2.0",
          "model_name": "LayoutModel",
          "state": {
            "_model_module": "@jupyter-widgets/base",
            "_model_module_version": "1.2.0",
            "_model_name": "LayoutModel",
            "_view_count": null,
            "_view_module": "@jupyter-widgets/base",
            "_view_module_version": "1.2.0",
            "_view_name": "LayoutView",
            "align_content": null,
            "align_items": null,
            "align_self": null,
            "border": null,
            "bottom": null,
            "display": null,
            "flex": null,
            "flex_flow": null,
            "grid_area": null,
            "grid_auto_columns": null,
            "grid_auto_flow": null,
            "grid_auto_rows": null,
            "grid_column": null,
            "grid_gap": null,
            "grid_row": null,
            "grid_template_areas": null,
            "grid_template_columns": null,
            "grid_template_rows": null,
            "height": null,
            "justify_content": null,
            "justify_items": null,
            "left": null,
            "margin": null,
            "max_height": null,
            "max_width": null,
            "min_height": null,
            "min_width": null,
            "object_fit": null,
            "object_position": null,
            "order": null,
            "overflow": null,
            "overflow_x": null,
            "overflow_y": null,
            "padding": null,
            "right": null,
            "top": null,
            "visibility": null,
            "width": null
          }
        },
        "7e9a62212add47fd96f667eee145acf6": {
          "model_module": "@jupyter-widgets/base",
          "model_module_version": "1.2.0",
          "model_name": "LayoutModel",
          "state": {
            "_model_module": "@jupyter-widgets/base",
            "_model_module_version": "1.2.0",
            "_model_name": "LayoutModel",
            "_view_count": null,
            "_view_module": "@jupyter-widgets/base",
            "_view_module_version": "1.2.0",
            "_view_name": "LayoutView",
            "align_content": null,
            "align_items": null,
            "align_self": null,
            "border": null,
            "bottom": null,
            "display": null,
            "flex": null,
            "flex_flow": null,
            "grid_area": null,
            "grid_auto_columns": null,
            "grid_auto_flow": null,
            "grid_auto_rows": null,
            "grid_column": null,
            "grid_gap": null,
            "grid_row": null,
            "grid_template_areas": null,
            "grid_template_columns": null,
            "grid_template_rows": null,
            "height": null,
            "justify_content": null,
            "justify_items": null,
            "left": null,
            "margin": null,
            "max_height": null,
            "max_width": null,
            "min_height": null,
            "min_width": null,
            "object_fit": null,
            "object_position": null,
            "order": null,
            "overflow": null,
            "overflow_x": null,
            "overflow_y": null,
            "padding": null,
            "right": null,
            "top": null,
            "visibility": null,
            "width": null
          }
        },
        "b0ba2a24e97c40dfb18975a04490b9e3": {
          "model_module": "@jupyter-widgets/base",
          "model_module_version": "1.2.0",
          "model_name": "LayoutModel",
          "state": {
            "_model_module": "@jupyter-widgets/base",
            "_model_module_version": "1.2.0",
            "_model_name": "LayoutModel",
            "_view_count": null,
            "_view_module": "@jupyter-widgets/base",
            "_view_module_version": "1.2.0",
            "_view_name": "LayoutView",
            "align_content": null,
            "align_items": null,
            "align_self": null,
            "border": null,
            "bottom": null,
            "display": null,
            "flex": null,
            "flex_flow": null,
            "grid_area": null,
            "grid_auto_columns": null,
            "grid_auto_flow": null,
            "grid_auto_rows": null,
            "grid_column": null,
            "grid_gap": null,
            "grid_row": null,
            "grid_template_areas": null,
            "grid_template_columns": null,
            "grid_template_rows": null,
            "height": null,
            "justify_content": null,
            "justify_items": null,
            "left": null,
            "margin": null,
            "max_height": null,
            "max_width": null,
            "min_height": null,
            "min_width": null,
            "object_fit": null,
            "object_position": null,
            "order": null,
            "overflow": null,
            "overflow_x": null,
            "overflow_y": null,
            "padding": null,
            "right": null,
            "top": null,
            "visibility": null,
            "width": null
          }
        },
        "bb7fd281b93e44b38d900f1945f60361": {
          "model_module": "@jupyter-widgets/controls",
          "model_module_version": "1.5.0",
          "model_name": "HBoxModel",
          "state": {
            "_dom_classes": [],
            "_model_module": "@jupyter-widgets/controls",
            "_model_module_version": "1.5.0",
            "_model_name": "HBoxModel",
            "_view_count": null,
            "_view_module": "@jupyter-widgets/controls",
            "_view_module_version": "1.5.0",
            "_view_name": "HBoxView",
            "box_style": "",
            "children": [
              "IPY_MODEL_d0cd9f0dd00d4654b7067af26c789776",
              "IPY_MODEL_ecff424b11854dd2afd4b6c72ad7afff",
              "IPY_MODEL_d2ffb801d59549e7a25498604c58ea6f"
            ],
            "layout": "IPY_MODEL_60d237dd741642f0897feee397bc93e6"
          }
        },
        "d0cd9f0dd00d4654b7067af26c789776": {
          "model_module": "@jupyter-widgets/controls",
          "model_module_version": "1.5.0",
          "model_name": "HTMLModel",
          "state": {
            "_dom_classes": [],
            "_model_module": "@jupyter-widgets/controls",
            "_model_module_version": "1.5.0",
            "_model_name": "HTMLModel",
            "_view_count": null,
            "_view_module": "@jupyter-widgets/controls",
            "_view_module_version": "1.5.0",
            "_view_name": "HTMLView",
            "description": "",
            "description_tooltip": null,
            "layout": "IPY_MODEL_7e9a62212add47fd96f667eee145acf6",
            "placeholder": "​",
            "style": "IPY_MODEL_56dafb44fdd74291bd19701080376875",
            "value": "100%"
          }
        },
        "d1948757a7f4409e91c6cb38ae2a194c": {
          "model_module": "@jupyter-widgets/base",
          "model_module_version": "1.2.0",
          "model_name": "LayoutModel",
          "state": {
            "_model_module": "@jupyter-widgets/base",
            "_model_module_version": "1.2.0",
            "_model_name": "LayoutModel",
            "_view_count": null,
            "_view_module": "@jupyter-widgets/base",
            "_view_module_version": "1.2.0",
            "_view_name": "LayoutView",
            "align_content": null,
            "align_items": null,
            "align_self": null,
            "border": null,
            "bottom": null,
            "display": null,
            "flex": null,
            "flex_flow": null,
            "grid_area": null,
            "grid_auto_columns": null,
            "grid_auto_flow": null,
            "grid_auto_rows": null,
            "grid_column": null,
            "grid_gap": null,
            "grid_row": null,
            "grid_template_areas": null,
            "grid_template_columns": null,
            "grid_template_rows": null,
            "height": null,
            "justify_content": null,
            "justify_items": null,
            "left": null,
            "margin": null,
            "max_height": null,
            "max_width": null,
            "min_height": null,
            "min_width": null,
            "object_fit": null,
            "object_position": null,
            "order": null,
            "overflow": null,
            "overflow_x": null,
            "overflow_y": null,
            "padding": null,
            "right": null,
            "top": null,
            "visibility": null,
            "width": null
          }
        },
        "d2ffb801d59549e7a25498604c58ea6f": {
          "model_module": "@jupyter-widgets/controls",
          "model_module_version": "1.5.0",
          "model_name": "HTMLModel",
          "state": {
            "_dom_classes": [],
            "_model_module": "@jupyter-widgets/controls",
            "_model_module_version": "1.5.0",
            "_model_name": "HTMLModel",
            "_view_count": null,
            "_view_module": "@jupyter-widgets/controls",
            "_view_module_version": "1.5.0",
            "_view_name": "HTMLView",
            "description": "",
            "description_tooltip": null,
            "layout": "IPY_MODEL_d1948757a7f4409e91c6cb38ae2a194c",
            "placeholder": "​",
            "style": "IPY_MODEL_19363c1e5101400595c58fbba50a56dd",
            "value": " 450/450 [11:49&lt;00:00,  1.19s/it]"
          }
        },
        "ecff424b11854dd2afd4b6c72ad7afff": {
          "model_module": "@jupyter-widgets/controls",
          "model_module_version": "1.5.0",
          "model_name": "FloatProgressModel",
          "state": {
            "_dom_classes": [],
            "_model_module": "@jupyter-widgets/controls",
            "_model_module_version": "1.5.0",
            "_model_name": "FloatProgressModel",
            "_view_count": null,
            "_view_module": "@jupyter-widgets/controls",
            "_view_module_version": "1.5.0",
            "_view_name": "ProgressView",
            "bar_style": "success",
            "description": "",
            "description_tooltip": null,
            "layout": "IPY_MODEL_b0ba2a24e97c40dfb18975a04490b9e3",
            "max": 450,
            "min": 0,
            "orientation": "horizontal",
            "style": "IPY_MODEL_57d00ec50e4042efac876386c92cad46",
            "value": 450
          }
        }
      }
    }
  },
  "nbformat": 4,
  "nbformat_minor": 0
}
